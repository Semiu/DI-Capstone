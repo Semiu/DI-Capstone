{
 "cells": [
  {
   "cell_type": "markdown",
   "id": "d28fe1af",
   "metadata": {},
   "source": [
    "### This notebook contains scripts for the exploratory data analysis and cross validation data generation for the [cleansed data](http://localhost:8888/notebooks/Documents/DI-Capstone/Proposal/1-data-cleaning-EDA/datacleansing.ipynb) in the previous stage."
   ]
  },
  {
   "cell_type": "code",
   "execution_count": 9,
   "id": "10b13dda",
   "metadata": {},
   "outputs": [],
   "source": [
    "#Import the required libraries \n",
    "import re\n",
    "import pandas as pd\n",
    "import numpy as np\n",
    "import seaborn as sns\n",
    "import matplotlib.pyplot as plt\n",
    "from sklearn import model_selection"
   ]
  },
  {
   "cell_type": "code",
   "execution_count": 2,
   "id": "a554fe0e",
   "metadata": {},
   "outputs": [],
   "source": [
    "#Load the cleansed data into a dataframe\n",
    "cleansed_loandata = pd.read_csv(r\"F:\\Dataset\\Lendingclub\\treatedLCloandata.csv\", low_memory = False)"
   ]
  },
  {
   "cell_type": "code",
   "execution_count": 3,
   "id": "1acdb7cc",
   "metadata": {},
   "outputs": [
    {
     "data": {
      "text/html": [
       "<div>\n",
       "<style scoped>\n",
       "    .dataframe tbody tr th:only-of-type {\n",
       "        vertical-align: middle;\n",
       "    }\n",
       "\n",
       "    .dataframe tbody tr th {\n",
       "        vertical-align: top;\n",
       "    }\n",
       "\n",
       "    .dataframe thead th {\n",
       "        text-align: right;\n",
       "    }\n",
       "</style>\n",
       "<table border=\"1\" class=\"dataframe\">\n",
       "  <thead>\n",
       "    <tr style=\"text-align: right;\">\n",
       "      <th></th>\n",
       "      <th>loan_amnt</th>\n",
       "      <th>purpose</th>\n",
       "      <th>policy_code</th>\n",
       "      <th>fico_range_high</th>\n",
       "      <th>dti</th>\n",
       "      <th>emp_length</th>\n",
       "      <th>is_safe</th>\n",
       "    </tr>\n",
       "  </thead>\n",
       "  <tbody>\n",
       "    <tr>\n",
       "      <th>0</th>\n",
       "      <td>1000.0</td>\n",
       "      <td>3</td>\n",
       "      <td>0.0</td>\n",
       "      <td>693.0</td>\n",
       "      <td>10.00</td>\n",
       "      <td>5.0</td>\n",
       "      <td>0</td>\n",
       "    </tr>\n",
       "    <tr>\n",
       "      <th>1</th>\n",
       "      <td>1000.0</td>\n",
       "      <td>1</td>\n",
       "      <td>0.0</td>\n",
       "      <td>703.0</td>\n",
       "      <td>10.00</td>\n",
       "      <td>1.0</td>\n",
       "      <td>0</td>\n",
       "    </tr>\n",
       "    <tr>\n",
       "      <th>2</th>\n",
       "      <td>11000.0</td>\n",
       "      <td>1</td>\n",
       "      <td>0.0</td>\n",
       "      <td>715.0</td>\n",
       "      <td>10.00</td>\n",
       "      <td>2.0</td>\n",
       "      <td>0</td>\n",
       "    </tr>\n",
       "    <tr>\n",
       "      <th>3</th>\n",
       "      <td>6000.0</td>\n",
       "      <td>7</td>\n",
       "      <td>0.0</td>\n",
       "      <td>698.0</td>\n",
       "      <td>38.64</td>\n",
       "      <td>1.0</td>\n",
       "      <td>0</td>\n",
       "    </tr>\n",
       "    <tr>\n",
       "      <th>4</th>\n",
       "      <td>1500.0</td>\n",
       "      <td>7</td>\n",
       "      <td>0.0</td>\n",
       "      <td>509.0</td>\n",
       "      <td>9.43</td>\n",
       "      <td>1.0</td>\n",
       "      <td>0</td>\n",
       "    </tr>\n",
       "  </tbody>\n",
       "</table>\n",
       "</div>"
      ],
      "text/plain": [
       "   loan_amnt  purpose  policy_code  fico_range_high    dti  emp_length  \\\n",
       "0     1000.0        3          0.0            693.0  10.00         5.0   \n",
       "1     1000.0        1          0.0            703.0  10.00         1.0   \n",
       "2    11000.0        1          0.0            715.0  10.00         2.0   \n",
       "3     6000.0        7          0.0            698.0  38.64         1.0   \n",
       "4     1500.0        7          0.0            509.0   9.43         1.0   \n",
       "\n",
       "   is_safe  \n",
       "0        0  \n",
       "1        0  \n",
       "2        0  \n",
       "3        0  \n",
       "4        0  "
      ]
     },
     "execution_count": 3,
     "metadata": {},
     "output_type": "execute_result"
    }
   ],
   "source": [
    "cleansed_loandata.head()"
   ]
  },
  {
   "cell_type": "code",
   "execution_count": 5,
   "id": "3e9481e8",
   "metadata": {},
   "outputs": [
    {
     "data": {
      "text/plain": [
       "Text(0, 0.5, 'count')"
      ]
     },
     "execution_count": 5,
     "metadata": {},
     "output_type": "execute_result"
    },
    {
     "data": {
      "image/png": "[encoded data removed]",
      "text/plain": [
       "<Figure size 432x288 with 1 Axes>"
      ]
     },
     "metadata": {
      "needs_background": "light"
     },
     "output_type": "display_data"
    }
   ],
   "source": [
    "#Create a chart\n",
    "chart = sns.countplot(x='is_safe', data=cleansed_loandata)\n",
    "chart.set_xlabel(\"is_safe\", fontsize = 20)\n",
    "chart.set_ylabel(\"count\", fontsize = 20)"
   ]
  },
  {
   "cell_type": "code",
   "execution_count": 6,
   "id": "f14f19d8",
   "metadata": {},
   "outputs": [],
   "source": [
    "#Stratified K-fold cross validation because of the class imbalance in the dataset as shown in the chart above\n",
    "#Create a new column called 'kfold' and fill it with -1, and randomize the rows\n",
    "cleansed_loandata[\"stratkfold\"] = -1\n",
    "cleansed_loandata = cleansed_loandata.sample(frac = 1).reset_index(drop = True)"
   ]
  },
  {
   "cell_type": "code",
   "execution_count": 7,
   "id": "efe2ddba",
   "metadata": {},
   "outputs": [],
   "source": [
    "#Fetch the targets\n",
    "y = cleansed_loandata.is_safe.values"
   ]
  },
  {
   "cell_type": "code",
   "execution_count": 10,
   "id": "749f3dcd",
   "metadata": {},
   "outputs": [],
   "source": [
    "#Initialize the  Stratified Kfold class into 10 splits\n",
    "stratk_fold = model_selection.StratifiedKFold(n_splits = 10)"
   ]
  },
  {
   "cell_type": "code",
   "execution_count": 11,
   "id": "b93ea46f",
   "metadata": {},
   "outputs": [],
   "source": [
    "#Fill the new column \n",
    "for fold, (trn_, val_) in enumerate(stratk_fold.split(X = cleansed_loandata, y=y)):\n",
    "    cleansed_loandata.loc[val_, 'stratkfold'] = fold "
   ]
  },
  {
   "cell_type": "code",
   "execution_count": 12,
   "id": "550ac118",
   "metadata": {},
   "outputs": [],
   "source": [
    "#Save the new cleansed-with stratified kfold into a new CSV file\n",
    "cleansed_loandata.to_csv(r\"F:\\Dataset\\Lendingclub\\stratifiedLCloandata.csv\", encoding='utf-8', index=None)"
   ]
  }
 ],
 "metadata": {
  "kernelspec": {
   "display_name": "Python 3",
   "language": "python",
   "name": "python3"
  },
  "language_info": {
   "codemirror_mode": {
    "name": "ipython",
    "version": 3
   },
   "file_extension": ".py",
   "mimetype": "text/x-python",
   "name": "python",
   "nbconvert_exporter": "python",
   "pygments_lexer": "ipython3",
   "version": "3.7.9"
  }
 },
 "nbformat": 4,
 "nbformat_minor": 5
}
