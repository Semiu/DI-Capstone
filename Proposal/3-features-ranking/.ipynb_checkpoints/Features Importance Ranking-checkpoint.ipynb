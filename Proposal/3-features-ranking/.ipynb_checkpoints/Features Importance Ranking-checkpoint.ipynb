{
 "cells": [
  {
   "cell_type": "markdown",
   "metadata": {
    "id": "8niISN6-NR9h"
   },
   "source": [
    "The feature importance ranking uses the XGBoost Classifier feature importance function"
   ]
  },
  {
   "cell_type": "code",
   "execution_count": 2,
   "metadata": {
    "id": "mCe94D9jMUAP"
   },
   "outputs": [],
   "source": [
    "#Import the required libraries\n",
    "import pandas as pd\n",
    "import numpy as np\n",
    "\n",
    "from sklearn import preprocessing\n",
    "import xgboost as xgb\n",
    "import matplotlib.pyplot as plt"
   ]
  },
  {
   "cell_type": "code",
   "execution_count": 3,
   "metadata": {
    "id": "b5XPK3AJNQcz"
   },
   "outputs": [],
   "source": [
    "#load the training dataset with the stratified K-folds\n",
    "train_datasets = pd.read_csv(r\"F:\\Dataset\\Lendingclub\\stratifiedLCloandata.csv\", low_memory = False)"
   ]
  },
  {
   "cell_type": "code",
   "execution_count": 9,
   "metadata": {},
   "outputs": [
    {
     "data": {
      "text/html": [
       "<div>\n",
       "<style scoped>\n",
       "    .dataframe tbody tr th:only-of-type {\n",
       "        vertical-align: middle;\n",
       "    }\n",
       "\n",
       "    .dataframe tbody tr th {\n",
       "        vertical-align: top;\n",
       "    }\n",
       "\n",
       "    .dataframe thead th {\n",
       "        text-align: right;\n",
       "    }\n",
       "</style>\n",
       "<table border=\"1\" class=\"dataframe\">\n",
       "  <thead>\n",
       "    <tr style=\"text-align: right;\">\n",
       "      <th></th>\n",
       "      <th>loan_amnt</th>\n",
       "      <th>purpose</th>\n",
       "      <th>policy_code</th>\n",
       "      <th>fico_range_high</th>\n",
       "      <th>dti</th>\n",
       "      <th>emp_length</th>\n",
       "      <th>is_safe</th>\n",
       "      <th>stratkfold</th>\n",
       "    </tr>\n",
       "  </thead>\n",
       "  <tbody>\n",
       "    <tr>\n",
       "      <th>0</th>\n",
       "      <td>4132</td>\n",
       "      <td>6</td>\n",
       "      <td>0</td>\n",
       "      <td>312</td>\n",
       "      <td>601</td>\n",
       "      <td>1</td>\n",
       "      <td>0</td>\n",
       "      <td>0</td>\n",
       "    </tr>\n",
       "    <tr>\n",
       "      <th>1</th>\n",
       "      <td>5160</td>\n",
       "      <td>0</td>\n",
       "      <td>0</td>\n",
       "      <td>339</td>\n",
       "      <td>902</td>\n",
       "      <td>1</td>\n",
       "      <td>0</td>\n",
       "      <td>0</td>\n",
       "    </tr>\n",
       "    <tr>\n",
       "      <th>2</th>\n",
       "      <td>5160</td>\n",
       "      <td>0</td>\n",
       "      <td>0</td>\n",
       "      <td>374</td>\n",
       "      <td>3951</td>\n",
       "      <td>1</td>\n",
       "      <td>0</td>\n",
       "      <td>0</td>\n",
       "    </tr>\n",
       "    <tr>\n",
       "      <th>3</th>\n",
       "      <td>5935</td>\n",
       "      <td>6</td>\n",
       "      <td>0</td>\n",
       "      <td>0</td>\n",
       "      <td>67</td>\n",
       "      <td>1</td>\n",
       "      <td>0</td>\n",
       "      <td>0</td>\n",
       "    </tr>\n",
       "    <tr>\n",
       "      <th>4</th>\n",
       "      <td>5484</td>\n",
       "      <td>4</td>\n",
       "      <td>0</td>\n",
       "      <td>370</td>\n",
       "      <td>2257</td>\n",
       "      <td>1</td>\n",
       "      <td>0</td>\n",
       "      <td>0</td>\n",
       "    </tr>\n",
       "  </tbody>\n",
       "</table>\n",
       "</div>"
      ],
      "text/plain": [
       "   loan_amnt  purpose  policy_code  fico_range_high   dti  emp_length  \\\n",
       "0       4132        6            0              312   601           1   \n",
       "1       5160        0            0              339   902           1   \n",
       "2       5160        0            0              374  3951           1   \n",
       "3       5935        6            0                0    67           1   \n",
       "4       5484        4            0              370  2257           1   \n",
       "\n",
       "   is_safe  stratkfold  \n",
       "0        0           0  \n",
       "1        0           0  \n",
       "2        0           0  \n",
       "3        0           0  \n",
       "4        0           0  "
      ]
     },
     "execution_count": 9,
     "metadata": {},
     "output_type": "execute_result"
    }
   ],
   "source": [
    "train_datasets.head()"
   ]
  },
  {
   "cell_type": "code",
   "execution_count": 10,
   "metadata": {
    "id": "MwBb0FlINQZd"
   },
   "outputs": [],
   "source": [
    "#All columns except 'is_safe' and 'stratkfold' as training features\n",
    "train_features = [tf for tf in train_datasets.columns if tf not in ('is_safe', 'stratkfold', 'policy_code')]"
   ]
  },
  {
   "cell_type": "code",
   "execution_count": 11,
   "metadata": {
    "id": "B7zcMY31NQTt"
   },
   "outputs": [],
   "source": [
    "#Transform each \n",
    "for col in train_features:\n",
    "  #Initialize the Label Encoder\n",
    "  lbl = preprocessing.LabelEncoder()\n",
    "  #Fit the label encoder on each of the features\n",
    "  lbl.fit(train_datasets[col])\n",
    "  #Transform \n",
    "  train_datasets.loc[:,col] = lbl.transform(train_datasets[col])"
   ]
  },
  {
   "cell_type": "code",
   "execution_count": 12,
   "metadata": {
    "id": "NZDKcY6ASVHC"
   },
   "outputs": [],
   "source": [
    "#Get training and validation data using folds (5 as a dummy value)\n",
    "train_datasets_train = train_datasets[train_datasets.stratkfold != 5].reset_index(drop=True)\n",
    "train_datasets_valid = train_datasets[train_datasets.stratkfold == 5].reset_index(drop=True)\n",
    "\n",
    "#Get train data - For tree models\n",
    "X_train = train_datasets_train[train_features].values\n",
    "#Get validation data\n",
    "X_valid = train_datasets_valid[train_features].values"
   ]
  },
  {
   "cell_type": "code",
   "execution_count": 13,
   "metadata": {
    "colab": {
     "base_uri": "https://localhost:8080/",
     "height": 789
    },
    "id": "trbkP8A0NQRE",
    "outputId": "c53253c9-fcc0-4ef2-b7d3-6c8eebc8abc4"
   },
   "outputs": [
    {
     "name": "stderr",
     "output_type": "stream",
     "text": [
      "C:\\Users\\Semiu\\Anaconda3\\lib\\site-packages\\xgboost\\sklearn.py:1224: UserWarning: The use of label encoder in XGBClassifier is deprecated and will be removed in a future release. To remove this warning, do the following: 1) Pass option use_label_encoder=False when constructing XGBClassifier object; and 2) Encode your labels (y) as integers starting with 0, i.e. 0, 1, 2, ..., [num_class - 1].\n",
      "  warnings.warn(label_encoder_deprecation_msg, UserWarning)\n"
     ]
    },
    {
     "name": "stdout",
     "output_type": "stream",
     "text": [
      "[14:39:56] WARNING: D:\\bld\\xgboost-split_1643227225381\\work\\src\\learner.cc:1115: Starting in XGBoost 1.3.0, the default evaluation metric used with the objective 'binary:logistic' was changed from 'error' to 'logloss'. Explicitly set eval_metric if you'd like to restore the old behavior.\n"
     ]
    },
    {
     "data": {
      "text/plain": [
       "<function matplotlib.pyplot.show(close=None, block=None)>"
      ]
     },
     "execution_count": 13,
     "metadata": {},
     "output_type": "execute_result"
    },
    {
     "data": {
      "image/png": "[encoded data removed]",
      "text/plain": [
       "<Figure size 1440x1296 with 1 Axes>"
      ]
     },
     "metadata": {
      "needs_background": "light"
     },
     "output_type": "display_data"
    }
   ],
   "source": [
    "#Initialize XGboost model\n",
    "xgb_model = xgb.XGBClassifier(n_jobs=-1)\n",
    "  \n",
    "#Fit the model on training data\n",
    "xgb_model.fit(X_train, train_datasets_train.is_safe.values)\n",
    "\n",
    "#Feature importance plotting for XGBoost\n",
    "importances = xgb_model.feature_importances_\n",
    "idxs = np.argsort(importances)\n",
    "plt.figure(figsize=(20,18))\n",
    "plt.title('Feature Importances')\n",
    "plt.barh(range(len(idxs)), importances[idxs], align='center')\n",
    "plt.yticks(range(len(idxs)), [train_features[i] for i in idxs])\n",
    "plt.xlabel('XGBoost Importance Rank')\n",
    "plt.show"
   ]
  },
  {
   "cell_type": "code",
   "execution_count": null,
   "metadata": {},
   "outputs": [],
   "source": []
  }
 ],
 "metadata": {
  "colab": {
   "collapsed_sections": [],
   "name": "FeatureSelection3.ipynb",
   "provenance": []
  },
  "kernelspec": {
   "display_name": "Python 3",
   "language": "python",
   "name": "python3"
  },
  "language_info": {
   "codemirror_mode": {
    "name": "ipython",
    "version": 3
   },
   "file_extension": ".py",
   "mimetype": "text/x-python",
   "name": "python",
   "nbconvert_exporter": "python",
   "pygments_lexer": "ipython3",
   "version": "3.7.9"
  }
 },
 "nbformat": 4,
 "nbformat_minor": 1
}
