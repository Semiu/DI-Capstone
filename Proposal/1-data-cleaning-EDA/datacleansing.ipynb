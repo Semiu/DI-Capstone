{
 "cells": [
  {
   "cell_type": "markdown",
   "id": "4a2c8f5f",
   "metadata": {},
   "source": [
    "### This notebook contains scripts for the cleansing of the [data merged](https://github.com/Semiu/DI-Capstone/blob/main/Proposal/1-data-cleaning-EDA/datamerging.ipynb) in the previous stage."
   ]
  },
  {
   "cell_type": "code",
   "execution_count": 33,
   "id": "c335fdeb",
   "metadata": {},
   "outputs": [],
   "source": [
    "#Import the required libraries \n",
    "\n",
    "import pandas as pd\n",
    "import numpy as np\n",
    "import seaborn as sns\n",
    "import matplotlib.pyplot as plt"
   ]
  },
  {
   "cell_type": "code",
   "execution_count": 50,
   "id": "8e1e7234",
   "metadata": {},
   "outputs": [],
   "source": [
    "#Load the merged data into a dataframe\n",
    "loandata = pd.read_csv(r\"F:\\Dataset\\Lendingclub\\LCloandata.csv\", low_memory = False)"
   ]
  },
  {
   "cell_type": "code",
   "execution_count": 51,
   "id": "9dd3422e",
   "metadata": {},
   "outputs": [
    {
     "data": {
      "text/html": [
       "<div>\n",
       "<style scoped>\n",
       "    .dataframe tbody tr th:only-of-type {\n",
       "        vertical-align: middle;\n",
       "    }\n",
       "\n",
       "    .dataframe tbody tr th {\n",
       "        vertical-align: top;\n",
       "    }\n",
       "\n",
       "    .dataframe thead th {\n",
       "        text-align: right;\n",
       "    }\n",
       "</style>\n",
       "<table border=\"1\" class=\"dataframe\">\n",
       "  <thead>\n",
       "    <tr style=\"text-align: right;\">\n",
       "      <th></th>\n",
       "      <th>loan_amnt</th>\n",
       "      <th>purpose</th>\n",
       "      <th>policy_code</th>\n",
       "      <th>fico_range_high</th>\n",
       "      <th>dti</th>\n",
       "      <th>emp_length</th>\n",
       "      <th>is_safe</th>\n",
       "    </tr>\n",
       "  </thead>\n",
       "  <tbody>\n",
       "    <tr>\n",
       "      <th>0</th>\n",
       "      <td>1000.0</td>\n",
       "      <td>Wedding Covered but No Honeymoon</td>\n",
       "      <td>0.0</td>\n",
       "      <td>693.0</td>\n",
       "      <td>10%</td>\n",
       "      <td>4 years</td>\n",
       "      <td>0</td>\n",
       "    </tr>\n",
       "    <tr>\n",
       "      <th>1</th>\n",
       "      <td>1000.0</td>\n",
       "      <td>Consolidating Debt</td>\n",
       "      <td>0.0</td>\n",
       "      <td>703.0</td>\n",
       "      <td>10%</td>\n",
       "      <td>&lt; 1 year</td>\n",
       "      <td>0</td>\n",
       "    </tr>\n",
       "    <tr>\n",
       "      <th>2</th>\n",
       "      <td>11000.0</td>\n",
       "      <td>Want to consolidate my debt</td>\n",
       "      <td>0.0</td>\n",
       "      <td>715.0</td>\n",
       "      <td>10%</td>\n",
       "      <td>1 year</td>\n",
       "      <td>0</td>\n",
       "    </tr>\n",
       "    <tr>\n",
       "      <th>3</th>\n",
       "      <td>6000.0</td>\n",
       "      <td>waksman</td>\n",
       "      <td>0.0</td>\n",
       "      <td>698.0</td>\n",
       "      <td>38.64%</td>\n",
       "      <td>&lt; 1 year</td>\n",
       "      <td>0</td>\n",
       "    </tr>\n",
       "    <tr>\n",
       "      <th>4</th>\n",
       "      <td>1500.0</td>\n",
       "      <td>mdrigo</td>\n",
       "      <td>0.0</td>\n",
       "      <td>509.0</td>\n",
       "      <td>9.43%</td>\n",
       "      <td>&lt; 1 year</td>\n",
       "      <td>0</td>\n",
       "    </tr>\n",
       "    <tr>\n",
       "      <th>...</th>\n",
       "      <td>...</td>\n",
       "      <td>...</td>\n",
       "      <td>...</td>\n",
       "      <td>...</td>\n",
       "      <td>...</td>\n",
       "      <td>...</td>\n",
       "      <td>...</td>\n",
       "    </tr>\n",
       "    <tr>\n",
       "      <th>2184192</th>\n",
       "      <td>525.0</td>\n",
       "      <td>NaN</td>\n",
       "      <td>2.0</td>\n",
       "      <td>NaN</td>\n",
       "      <td>NaN</td>\n",
       "      <td>NaN</td>\n",
       "      <td>1</td>\n",
       "    </tr>\n",
       "    <tr>\n",
       "      <th>2184193</th>\n",
       "      <td>2500.0</td>\n",
       "      <td>NaN</td>\n",
       "      <td>2.0</td>\n",
       "      <td>NaN</td>\n",
       "      <td>NaN</td>\n",
       "      <td>NaN</td>\n",
       "      <td>1</td>\n",
       "    </tr>\n",
       "    <tr>\n",
       "      <th>2184194</th>\n",
       "      <td>2160.0</td>\n",
       "      <td>NaN</td>\n",
       "      <td>2.0</td>\n",
       "      <td>NaN</td>\n",
       "      <td>NaN</td>\n",
       "      <td>NaN</td>\n",
       "      <td>1</td>\n",
       "    </tr>\n",
       "    <tr>\n",
       "      <th>2184195</th>\n",
       "      <td>16550.0</td>\n",
       "      <td>NaN</td>\n",
       "      <td>2.0</td>\n",
       "      <td>NaN</td>\n",
       "      <td>NaN</td>\n",
       "      <td>NaN</td>\n",
       "      <td>1</td>\n",
       "    </tr>\n",
       "    <tr>\n",
       "      <th>2184196</th>\n",
       "      <td>10976.0</td>\n",
       "      <td>NaN</td>\n",
       "      <td>2.0</td>\n",
       "      <td>NaN</td>\n",
       "      <td>NaN</td>\n",
       "      <td>NaN</td>\n",
       "      <td>1</td>\n",
       "    </tr>\n",
       "  </tbody>\n",
       "</table>\n",
       "<p>2184197 rows × 7 columns</p>\n",
       "</div>"
      ],
      "text/plain": [
       "         loan_amnt                           purpose  policy_code  \\\n",
       "0           1000.0  Wedding Covered but No Honeymoon          0.0   \n",
       "1           1000.0                Consolidating Debt          0.0   \n",
       "2          11000.0       Want to consolidate my debt          0.0   \n",
       "3           6000.0                           waksman          0.0   \n",
       "4           1500.0                            mdrigo          0.0   \n",
       "...            ...                               ...          ...   \n",
       "2184192      525.0                               NaN          2.0   \n",
       "2184193     2500.0                               NaN          2.0   \n",
       "2184194     2160.0                               NaN          2.0   \n",
       "2184195    16550.0                               NaN          2.0   \n",
       "2184196    10976.0                               NaN          2.0   \n",
       "\n",
       "         fico_range_high     dti emp_length  is_safe  \n",
       "0                  693.0     10%    4 years        0  \n",
       "1                  703.0     10%   < 1 year        0  \n",
       "2                  715.0     10%     1 year        0  \n",
       "3                  698.0  38.64%   < 1 year        0  \n",
       "4                  509.0   9.43%   < 1 year        0  \n",
       "...                  ...     ...        ...      ...  \n",
       "2184192              NaN     NaN        NaN        1  \n",
       "2184193              NaN     NaN        NaN        1  \n",
       "2184194              NaN     NaN        NaN        1  \n",
       "2184195              NaN     NaN        NaN        1  \n",
       "2184196              NaN     NaN        NaN        1  \n",
       "\n",
       "[2184197 rows x 7 columns]"
      ]
     },
     "execution_count": 51,
     "metadata": {},
     "output_type": "execute_result"
    }
   ],
   "source": [
    "loandata"
   ]
  },
  {
   "cell_type": "code",
   "execution_count": 72,
   "id": "db0d74d2",
   "metadata": {},
   "outputs": [
    {
     "data": {
      "text/plain": [
       "loan_amnt          0\n",
       "purpose            0\n",
       "policy_code        0\n",
       "fico_range_high    0\n",
       "dti                0\n",
       "emp_length         0\n",
       "is_safe            0\n",
       "dtype: int64"
      ]
     },
     "execution_count": 72,
     "metadata": {},
     "output_type": "execute_result"
    }
   ],
   "source": [
    "#Checking for the missing values\n",
    "loandata.isnull().sum()"
   ]
  },
  {
   "cell_type": "code",
   "execution_count": 55,
   "id": "eb549000",
   "metadata": {},
   "outputs": [],
   "source": [
    "#Treating the mising values of categorical data is different from the numerical or ordinal, also the domain context\n",
    "\n",
    "#policy_code - filled missing numbers \n",
    "loandata['policy_code'].fillna(0.0, inplace=True)\n",
    "\n",
    "#purpose\n",
    "loandata['purpose'].fillna(\"None\", inplace=True)\n",
    "\n",
    "#loan_amnt\n",
    "loandata['loan_amnt'].fillna(loandata['loan_amnt'].mean(), inplace=True)\n",
    "\n",
    "#fico_range_high\n",
    "loandata['fico_range_high'].fillna(loandata['fico_range_high'].mean(), inplace=True)"
   ]
  },
  {
   "cell_type": "code",
   "execution_count": 56,
   "id": "d170bc38",
   "metadata": {},
   "outputs": [],
   "source": [
    "#dti - replace missing values\n",
    "loandata['dti'].fillna(\"0.0%\", inplace=True)"
   ]
  },
  {
   "cell_type": "code",
   "execution_count": 57,
   "id": "758203c1",
   "metadata": {},
   "outputs": [],
   "source": [
    "#dti - to remove the %\n",
    "loandata['dti'] = loandata['dti'].apply(lambda x: x.replace('%','')).apply(lambda x: x.strip()).astype(float)"
   ]
  },
  {
   "cell_type": "code",
   "execution_count": 58,
   "id": "f5e5d1e4",
   "metadata": {},
   "outputs": [
    {
     "data": {
      "text/plain": [
       "< 1 year     1497392\n",
       "10+ years     186355\n",
       "5 years        75252\n",
       "2 years        66513\n",
       "3 years        56041\n",
       "1 year         55849\n",
       "4 years        42563\n",
       "6 years        36975\n",
       "7 years        32934\n",
       "8 years        27894\n",
       "9 years        22079\n",
       "Name: emp_length, dtype: int64"
      ]
     },
     "execution_count": 58,
     "metadata": {},
     "output_type": "execute_result"
    }
   ],
   "source": [
    "#Get the classes of values in emp_length for class mapping\n",
    "loandata['emp_length'].value_counts()"
   ]
  },
  {
   "cell_type": "code",
   "execution_count": 65,
   "id": "95e9cee0",
   "metadata": {},
   "outputs": [],
   "source": [
    "#Class mapping \n",
    "class_mapping = {'< 1 year': 1, '1 year': 2, '2 years': 3, '3 years': 4, '4 years': 5,'5 years': 6, '6 years': 7, '7 years': 8, '8 years': 9, '9 years': 10, '10+ years': 11}\n",
    "loandata['emp_length'] = loandata['emp_length'].map(class_mapping)"
   ]
  },
  {
   "cell_type": "code",
   "execution_count": null,
   "id": "aecd2bd4",
   "metadata": {},
   "outputs": [],
   "source": [
    "#Treat the mising values \n",
    "loandata['emp_length'].fillna(0, inplace=True)"
   ]
  },
  {
   "cell_type": "code",
   "execution_count": 69,
   "id": "4f7cd4d9",
   "metadata": {},
   "outputs": [
    {
     "data": {
      "text/plain": [
       "0          5.0\n",
       "1          1.0\n",
       "2          2.0\n",
       "3          1.0\n",
       "4          1.0\n",
       "          ... \n",
       "2184192    0.0\n",
       "2184193    0.0\n",
       "2184194    0.0\n",
       "2184195    0.0\n",
       "2184196    0.0\n",
       "Name: emp_length, Length: 2184197, dtype: float64"
      ]
     },
     "execution_count": 69,
     "metadata": {},
     "output_type": "execute_result"
    }
   ],
   "source": [
    "#Check\n",
    "loandata['emp_length']"
   ]
  },
  {
   "cell_type": "code",
   "execution_count": 71,
   "id": "ff4970ee",
   "metadata": {},
   "outputs": [
    {
     "data": {
      "text/html": [
       "<div>\n",
       "<style scoped>\n",
       "    .dataframe tbody tr th:only-of-type {\n",
       "        vertical-align: middle;\n",
       "    }\n",
       "\n",
       "    .dataframe tbody tr th {\n",
       "        vertical-align: top;\n",
       "    }\n",
       "\n",
       "    .dataframe thead th {\n",
       "        text-align: right;\n",
       "    }\n",
       "</style>\n",
       "<table border=\"1\" class=\"dataframe\">\n",
       "  <thead>\n",
       "    <tr style=\"text-align: right;\">\n",
       "      <th></th>\n",
       "      <th>loan_amnt</th>\n",
       "      <th>purpose</th>\n",
       "      <th>policy_code</th>\n",
       "      <th>fico_range_high</th>\n",
       "      <th>dti</th>\n",
       "      <th>emp_length</th>\n",
       "      <th>is_safe</th>\n",
       "    </tr>\n",
       "  </thead>\n",
       "  <tbody>\n",
       "    <tr>\n",
       "      <th>0</th>\n",
       "      <td>1000.0</td>\n",
       "      <td>Wedding Covered but No Honeymoon</td>\n",
       "      <td>0.0</td>\n",
       "      <td>693.000000</td>\n",
       "      <td>10.00</td>\n",
       "      <td>5.0</td>\n",
       "      <td>0</td>\n",
       "    </tr>\n",
       "    <tr>\n",
       "      <th>1</th>\n",
       "      <td>1000.0</td>\n",
       "      <td>Consolidating Debt</td>\n",
       "      <td>0.0</td>\n",
       "      <td>703.000000</td>\n",
       "      <td>10.00</td>\n",
       "      <td>1.0</td>\n",
       "      <td>0</td>\n",
       "    </tr>\n",
       "    <tr>\n",
       "      <th>2</th>\n",
       "      <td>11000.0</td>\n",
       "      <td>Want to consolidate my debt</td>\n",
       "      <td>0.0</td>\n",
       "      <td>715.000000</td>\n",
       "      <td>10.00</td>\n",
       "      <td>2.0</td>\n",
       "      <td>0</td>\n",
       "    </tr>\n",
       "    <tr>\n",
       "      <th>3</th>\n",
       "      <td>6000.0</td>\n",
       "      <td>waksman</td>\n",
       "      <td>0.0</td>\n",
       "      <td>698.000000</td>\n",
       "      <td>38.64</td>\n",
       "      <td>1.0</td>\n",
       "      <td>0</td>\n",
       "    </tr>\n",
       "    <tr>\n",
       "      <th>4</th>\n",
       "      <td>1500.0</td>\n",
       "      <td>mdrigo</td>\n",
       "      <td>0.0</td>\n",
       "      <td>509.000000</td>\n",
       "      <td>9.43</td>\n",
       "      <td>1.0</td>\n",
       "      <td>0</td>\n",
       "    </tr>\n",
       "    <tr>\n",
       "      <th>...</th>\n",
       "      <td>...</td>\n",
       "      <td>...</td>\n",
       "      <td>...</td>\n",
       "      <td>...</td>\n",
       "      <td>...</td>\n",
       "      <td>...</td>\n",
       "      <td>...</td>\n",
       "    </tr>\n",
       "    <tr>\n",
       "      <th>2184192</th>\n",
       "      <td>525.0</td>\n",
       "      <td>None</td>\n",
       "      <td>2.0</td>\n",
       "      <td>607.972609</td>\n",
       "      <td>0.00</td>\n",
       "      <td>0.0</td>\n",
       "      <td>1</td>\n",
       "    </tr>\n",
       "    <tr>\n",
       "      <th>2184193</th>\n",
       "      <td>2500.0</td>\n",
       "      <td>None</td>\n",
       "      <td>2.0</td>\n",
       "      <td>607.972609</td>\n",
       "      <td>0.00</td>\n",
       "      <td>0.0</td>\n",
       "      <td>1</td>\n",
       "    </tr>\n",
       "    <tr>\n",
       "      <th>2184194</th>\n",
       "      <td>2160.0</td>\n",
       "      <td>None</td>\n",
       "      <td>2.0</td>\n",
       "      <td>607.972609</td>\n",
       "      <td>0.00</td>\n",
       "      <td>0.0</td>\n",
       "      <td>1</td>\n",
       "    </tr>\n",
       "    <tr>\n",
       "      <th>2184195</th>\n",
       "      <td>16550.0</td>\n",
       "      <td>None</td>\n",
       "      <td>2.0</td>\n",
       "      <td>607.972609</td>\n",
       "      <td>0.00</td>\n",
       "      <td>0.0</td>\n",
       "      <td>1</td>\n",
       "    </tr>\n",
       "    <tr>\n",
       "      <th>2184196</th>\n",
       "      <td>10976.0</td>\n",
       "      <td>None</td>\n",
       "      <td>2.0</td>\n",
       "      <td>607.972609</td>\n",
       "      <td>0.00</td>\n",
       "      <td>0.0</td>\n",
       "      <td>1</td>\n",
       "    </tr>\n",
       "  </tbody>\n",
       "</table>\n",
       "<p>2184197 rows × 7 columns</p>\n",
       "</div>"
      ],
      "text/plain": [
       "         loan_amnt                           purpose  policy_code  \\\n",
       "0           1000.0  Wedding Covered but No Honeymoon          0.0   \n",
       "1           1000.0                Consolidating Debt          0.0   \n",
       "2          11000.0       Want to consolidate my debt          0.0   \n",
       "3           6000.0                           waksman          0.0   \n",
       "4           1500.0                            mdrigo          0.0   \n",
       "...            ...                               ...          ...   \n",
       "2184192      525.0                              None          2.0   \n",
       "2184193     2500.0                              None          2.0   \n",
       "2184194     2160.0                              None          2.0   \n",
       "2184195    16550.0                              None          2.0   \n",
       "2184196    10976.0                              None          2.0   \n",
       "\n",
       "         fico_range_high    dti  emp_length  is_safe  \n",
       "0             693.000000  10.00         5.0        0  \n",
       "1             703.000000  10.00         1.0        0  \n",
       "2             715.000000  10.00         2.0        0  \n",
       "3             698.000000  38.64         1.0        0  \n",
       "4             509.000000   9.43         1.0        0  \n",
       "...                  ...    ...         ...      ...  \n",
       "2184192       607.972609   0.00         0.0        1  \n",
       "2184193       607.972609   0.00         0.0        1  \n",
       "2184194       607.972609   0.00         0.0        1  \n",
       "2184195       607.972609   0.00         0.0        1  \n",
       "2184196       607.972609   0.00         0.0        1  \n",
       "\n",
       "[2184197 rows x 7 columns]"
      ]
     },
     "execution_count": 71,
     "metadata": {},
     "output_type": "execute_result"
    }
   ],
   "source": [
    "loandata"
   ]
  },
  {
   "cell_type": "code",
   "execution_count": 73,
   "id": "a7faa68c",
   "metadata": {},
   "outputs": [
    {
     "data": {
      "text/plain": [
       "debt_consolidation           875411\n",
       "other                        270909\n",
       "credit_card                  260085\n",
       "home_improvement             110287\n",
       "car                           79912\n",
       "                              ...  \n",
       "tweety_bird                       1\n",
       "Down payment for a duplex         1\n",
       "Feeding the helpless              1\n",
       "maui                              1\n",
       "GHS, Inc.                         1\n",
       "Name: purpose, Length: 74003, dtype: int64"
      ]
     },
     "execution_count": 73,
     "metadata": {},
     "output_type": "execute_result"
    }
   ],
   "source": [
    "loandata['purpose'].value_counts()"
   ]
  },
  {
   "cell_type": "code",
   "execution_count": null,
   "id": "be7551ef",
   "metadata": {},
   "outputs": [],
   "source": [
    "loandata['purpose']\n",
    "apply(lambda ser: ser.str.contains(\"toilet\").sum()).nlargest(10)"
   ]
  },
  {
   "cell_type": "code",
   "execution_count": null,
   "id": "f847a29b",
   "metadata": {},
   "outputs": [],
   "source": [
    "import re"
   ]
  },
  {
   "cell_type": "code",
   "execution_count": null,
   "id": "176be6e4",
   "metadata": {},
   "outputs": [],
   "source": []
  },
  {
   "cell_type": "code",
   "execution_count": null,
   "id": "6c2eac6a",
   "metadata": {},
   "outputs": [],
   "source": []
  },
  {
   "cell_type": "code",
   "execution_count": 75,
   "id": "fd1c4b0e",
   "metadata": {},
   "outputs": [
    {
     "data": {
      "text/plain": [
       "0          Wedding Covered but No Honeymoon\n",
       "1                        Consolidating Debt\n",
       "2               Want to consolidate my debt\n",
       "3                                   waksman\n",
       "4                                    mdrigo\n",
       "                         ...               \n",
       "2184192                                None\n",
       "2184193                                None\n",
       "2184194                                None\n",
       "2184195                                None\n",
       "2184196                                None\n",
       "Name: purpose, Length: 2184197, dtype: object"
      ]
     },
     "execution_count": 75,
     "metadata": {},
     "output_type": "execute_result"
    }
   ],
   "source": [
    "loandata['purpose'].apply(lambda x: x.replace('*.debt.*','debt_consolidation'))"
   ]
  },
  {
   "cell_type": "code",
   "execution_count": null,
   "id": "c80028d0",
   "metadata": {},
   "outputs": [],
   "source": [
    "#\n",
    "loandata.to_csv(r\"F:\\Dataset\\Lendingclub\\treatedLCloandata.csv\", encoding='utf-8', index=None)"
   ]
  },
  {
   "cell_type": "code",
   "execution_count": null,
   "id": "0a749d76",
   "metadata": {},
   "outputs": [],
   "source": []
  },
  {
   "cell_type": "code",
   "execution_count": null,
   "id": "9b32e6cd",
   "metadata": {},
   "outputs": [],
   "source": []
  },
  {
   "cell_type": "code",
   "execution_count": null,
   "id": "94911c1a",
   "metadata": {},
   "outputs": [],
   "source": []
  },
  {
   "cell_type": "code",
   "execution_count": null,
   "id": "1fbd7af2",
   "metadata": {},
   "outputs": [],
   "source": []
  }
 ],
 "metadata": {
  "kernelspec": {
   "display_name": "Python 3",
   "language": "python",
   "name": "python3"
  },
  "language_info": {
   "codemirror_mode": {
    "name": "ipython",
    "version": 3
   },
   "file_extension": ".py",
   "mimetype": "text/x-python",
   "name": "python",
   "nbconvert_exporter": "python",
   "pygments_lexer": "ipython3",
   "version": "3.7.9"
  }
 },
 "nbformat": 4,
 "nbformat_minor": 5
}
